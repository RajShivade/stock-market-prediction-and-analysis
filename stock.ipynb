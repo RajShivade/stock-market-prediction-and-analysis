{
 "cells": [
  {
   "cell_type": "code",
   "execution_count": 13,
   "metadata": {},
   "outputs": [],
   "source": [
    "import pandas as pd\n",
    "import math\n",
    "import numpy as np\n",
    "\n",
    "from IPython.display import display\n",
    "from sklearn import linear_model\n",
    "from sklearn.model_selection import train_test_split\n",
    "from sklearn.metrics import mean_squared_error\n",
    "from sklearn.model_selection import TimeSeriesSplit\n",
    "from sklearn.preprocessing import MinMaxScaler\n",
    "\n",
    "import preprocess_data as ppd\n",
    "import visualize as vs\n",
    "import stock_data as sd\n"
   ]
  },
  {
   "cell_type": "code",
   "execution_count": 14,
   "metadata": {},
   "outputs": [
    {
     "data": {
      "text/html": [
       "<div>\n",
       "<style scoped>\n",
       "    .dataframe tbody tr th:only-of-type {\n",
       "        vertical-align: middle;\n",
       "    }\n",
       "\n",
       "    .dataframe tbody tr th {\n",
       "        vertical-align: top;\n",
       "    }\n",
       "\n",
       "    .dataframe thead th {\n",
       "        text-align: right;\n",
       "    }\n",
       "</style>\n",
       "<table border=\"1\" class=\"dataframe\">\n",
       "  <thead>\n",
       "    <tr style=\"text-align: right;\">\n",
       "      <th></th>\n",
       "      <th>Date</th>\n",
       "      <th>Open</th>\n",
       "      <th>High</th>\n",
       "      <th>Low</th>\n",
       "      <th>Close</th>\n",
       "      <th>Volume</th>\n",
       "    </tr>\n",
       "  </thead>\n",
       "  <tbody>\n",
       "    <tr>\n",
       "      <td>0</td>\n",
       "      <td>30-Jun-17</td>\n",
       "      <td>943.99</td>\n",
       "      <td>945.00</td>\n",
       "      <td>929.61</td>\n",
       "      <td>929.68</td>\n",
       "      <td>2287662</td>\n",
       "    </tr>\n",
       "    <tr>\n",
       "      <td>1</td>\n",
       "      <td>29-Jun-17</td>\n",
       "      <td>951.35</td>\n",
       "      <td>951.66</td>\n",
       "      <td>929.60</td>\n",
       "      <td>937.82</td>\n",
       "      <td>3206674</td>\n",
       "    </tr>\n",
       "    <tr>\n",
       "      <td>2</td>\n",
       "      <td>28-Jun-17</td>\n",
       "      <td>950.66</td>\n",
       "      <td>963.24</td>\n",
       "      <td>936.16</td>\n",
       "      <td>961.01</td>\n",
       "      <td>2745568</td>\n",
       "    </tr>\n",
       "    <tr>\n",
       "      <td>3</td>\n",
       "      <td>27-Jun-17</td>\n",
       "      <td>961.60</td>\n",
       "      <td>967.22</td>\n",
       "      <td>947.09</td>\n",
       "      <td>948.09</td>\n",
       "      <td>2443602</td>\n",
       "    </tr>\n",
       "    <tr>\n",
       "      <td>4</td>\n",
       "      <td>26-Jun-17</td>\n",
       "      <td>990.00</td>\n",
       "      <td>993.99</td>\n",
       "      <td>970.33</td>\n",
       "      <td>972.09</td>\n",
       "      <td>1517912</td>\n",
       "    </tr>\n",
       "    <tr>\n",
       "      <td>...</td>\n",
       "      <td>...</td>\n",
       "      <td>...</td>\n",
       "      <td>...</td>\n",
       "      <td>...</td>\n",
       "      <td>...</td>\n",
       "      <td>...</td>\n",
       "    </tr>\n",
       "    <tr>\n",
       "      <td>3140</td>\n",
       "      <td>7-Jan-05</td>\n",
       "      <td>95.42</td>\n",
       "      <td>97.22</td>\n",
       "      <td>94.48</td>\n",
       "      <td>97.02</td>\n",
       "      <td>9666175</td>\n",
       "    </tr>\n",
       "    <tr>\n",
       "      <td>3141</td>\n",
       "      <td>6-Jan-05</td>\n",
       "      <td>97.72</td>\n",
       "      <td>98.05</td>\n",
       "      <td>93.95</td>\n",
       "      <td>94.37</td>\n",
       "      <td>10389803</td>\n",
       "    </tr>\n",
       "    <tr>\n",
       "      <td>3142</td>\n",
       "      <td>5-Jan-05</td>\n",
       "      <td>96.82</td>\n",
       "      <td>98.55</td>\n",
       "      <td>96.21</td>\n",
       "      <td>96.85</td>\n",
       "      <td>8239545</td>\n",
       "    </tr>\n",
       "    <tr>\n",
       "      <td>3143</td>\n",
       "      <td>4-Jan-05</td>\n",
       "      <td>100.77</td>\n",
       "      <td>101.57</td>\n",
       "      <td>96.84</td>\n",
       "      <td>97.35</td>\n",
       "      <td>13762396</td>\n",
       "    </tr>\n",
       "    <tr>\n",
       "      <td>3144</td>\n",
       "      <td>3-Jan-05</td>\n",
       "      <td>98.80</td>\n",
       "      <td>101.92</td>\n",
       "      <td>97.83</td>\n",
       "      <td>101.46</td>\n",
       "      <td>15860692</td>\n",
       "    </tr>\n",
       "  </tbody>\n",
       "</table>\n",
       "<p>3145 rows × 6 columns</p>\n",
       "</div>"
      ],
      "text/plain": [
       "           Date    Open    High     Low   Close    Volume\n",
       "0     30-Jun-17  943.99  945.00  929.61  929.68   2287662\n",
       "1     29-Jun-17  951.35  951.66  929.60  937.82   3206674\n",
       "2     28-Jun-17  950.66  963.24  936.16  961.01   2745568\n",
       "3     27-Jun-17  961.60  967.22  947.09  948.09   2443602\n",
       "4     26-Jun-17  990.00  993.99  970.33  972.09   1517912\n",
       "...         ...     ...     ...     ...     ...       ...\n",
       "3140   7-Jan-05   95.42   97.22   94.48   97.02   9666175\n",
       "3141   6-Jan-05   97.72   98.05   93.95   94.37  10389803\n",
       "3142   5-Jan-05   96.82   98.55   96.21   96.85   8239545\n",
       "3143   4-Jan-05  100.77  101.57   96.84   97.35  13762396\n",
       "3144   3-Jan-05   98.80  101.92   97.83  101.46  15860692\n",
       "\n",
       "[3145 rows x 6 columns]"
      ]
     },
     "execution_count": 14,
     "metadata": {},
     "output_type": "execute_result"
    }
   ],
   "source": [
    "df = pd.read_csv('google.csv')\n",
    "df"
   ]
  },
  {
   "cell_type": "code",
   "execution_count": 15,
   "metadata": {},
   "outputs": [
    {
     "data": {
      "text/html": [
       "<div>\n",
       "<style scoped>\n",
       "    .dataframe tbody tr th:only-of-type {\n",
       "        vertical-align: middle;\n",
       "    }\n",
       "\n",
       "    .dataframe tbody tr th {\n",
       "        vertical-align: top;\n",
       "    }\n",
       "\n",
       "    .dataframe thead th {\n",
       "        text-align: right;\n",
       "    }\n",
       "</style>\n",
       "<table border=\"1\" class=\"dataframe\">\n",
       "  <thead>\n",
       "    <tr style=\"text-align: right;\">\n",
       "      <th></th>\n",
       "      <th>Item</th>\n",
       "      <th>Open</th>\n",
       "      <th>Close</th>\n",
       "      <th>Volume</th>\n",
       "    </tr>\n",
       "  </thead>\n",
       "  <tbody>\n",
       "    <tr>\n",
       "      <td>0</td>\n",
       "      <td>0</td>\n",
       "      <td>98.80</td>\n",
       "      <td>101.46</td>\n",
       "      <td>15860692</td>\n",
       "    </tr>\n",
       "    <tr>\n",
       "      <td>1</td>\n",
       "      <td>1</td>\n",
       "      <td>100.77</td>\n",
       "      <td>97.35</td>\n",
       "      <td>13762396</td>\n",
       "    </tr>\n",
       "    <tr>\n",
       "      <td>2</td>\n",
       "      <td>2</td>\n",
       "      <td>96.82</td>\n",
       "      <td>96.85</td>\n",
       "      <td>8239545</td>\n",
       "    </tr>\n",
       "    <tr>\n",
       "      <td>3</td>\n",
       "      <td>3</td>\n",
       "      <td>97.72</td>\n",
       "      <td>94.37</td>\n",
       "      <td>10389803</td>\n",
       "    </tr>\n",
       "    <tr>\n",
       "      <td>4</td>\n",
       "      <td>4</td>\n",
       "      <td>95.42</td>\n",
       "      <td>97.02</td>\n",
       "      <td>9666175</td>\n",
       "    </tr>\n",
       "    <tr>\n",
       "      <td>...</td>\n",
       "      <td>...</td>\n",
       "      <td>...</td>\n",
       "      <td>...</td>\n",
       "      <td>...</td>\n",
       "    </tr>\n",
       "    <tr>\n",
       "      <td>3140</td>\n",
       "      <td>3140</td>\n",
       "      <td>990.00</td>\n",
       "      <td>972.09</td>\n",
       "      <td>1517912</td>\n",
       "    </tr>\n",
       "    <tr>\n",
       "      <td>3141</td>\n",
       "      <td>3141</td>\n",
       "      <td>961.60</td>\n",
       "      <td>948.09</td>\n",
       "      <td>2443602</td>\n",
       "    </tr>\n",
       "    <tr>\n",
       "      <td>3142</td>\n",
       "      <td>3142</td>\n",
       "      <td>950.66</td>\n",
       "      <td>961.01</td>\n",
       "      <td>2745568</td>\n",
       "    </tr>\n",
       "    <tr>\n",
       "      <td>3143</td>\n",
       "      <td>3143</td>\n",
       "      <td>951.35</td>\n",
       "      <td>937.82</td>\n",
       "      <td>3206674</td>\n",
       "    </tr>\n",
       "    <tr>\n",
       "      <td>3144</td>\n",
       "      <td>3144</td>\n",
       "      <td>943.99</td>\n",
       "      <td>929.68</td>\n",
       "      <td>2287662</td>\n",
       "    </tr>\n",
       "  </tbody>\n",
       "</table>\n",
       "<p>3145 rows × 4 columns</p>\n",
       "</div>"
      ],
      "text/plain": [
       "      Item    Open   Close    Volume\n",
       "0        0   98.80  101.46  15860692\n",
       "1        1  100.77   97.35  13762396\n",
       "2        2   96.82   96.85   8239545\n",
       "3        3   97.72   94.37  10389803\n",
       "4        4   95.42   97.02   9666175\n",
       "...    ...     ...     ...       ...\n",
       "3140  3140  990.00  972.09   1517912\n",
       "3141  3141  961.60  948.09   2443602\n",
       "3142  3142  950.66  961.01   2745568\n",
       "3143  3143  951.35  937.82   3206674\n",
       "3144  3144  943.99  929.68   2287662\n",
       "\n",
       "[3145 rows x 4 columns]"
      ]
     },
     "execution_count": 15,
     "metadata": {},
     "output_type": "execute_result"
    }
   ],
   "source": [
    "stocks = ppd.remove_data(df)\n",
    "stocks"
   ]
  },
  {
   "cell_type": "code",
   "execution_count": 16,
   "metadata": {},
   "outputs": [
    {
     "data": {
      "image/png": "[encoded data removed]",
      "text/plain": [
       "<Figure size 432x288 with 1 Axes>"
      ]
     },
     "metadata": {
      "needs_background": "light"
     },
     "output_type": "display_data"
    }
   ],
   "source": [
    "\n",
    "vs.plot_basic(stocks)\n"
   ]
  },
  {
   "cell_type": "code",
   "execution_count": 17,
   "metadata": {},
   "outputs": [
    {
     "name": "stdout",
     "output_type": "stream",
     "text": [
      "   Item      Open     Close    Volume\n",
      "0     0  0.012051  0.015141  0.377248\n",
      "1     1  0.014198  0.010658  0.325644\n",
      "2     2  0.009894  0.010112  0.189820\n",
      "3     3  0.010874  0.007407  0.242701\n",
      "4     4  0.008368  0.010298  0.224905\n",
      "\n",
      "\n",
      "Open   --- mean : 0.3211922293886812   \t Std:  0.23261946808306658   \t Max:  0.9999999999999999   \t Min:  0.0\n",
      "Close  --- mean : 0.3215558503465895   \t Std:  0.23283076112482215   \t Max:  1.0   \t Min:  0.0\n",
      "Volume --- mean : 0.09061506381049182   \t Std:  0.09535947661989863   \t Max:  0.9999999999999999   \t Min:  0.0\n"
     ]
    }
   ],
   "source": [
    "stocks = ppd.get_normalised_data(stocks)\n",
    "print(stocks.head())\n",
    "\n",
    "print(\"\\n\")\n",
    "print(\"Open   --- mean :\", np.mean(stocks['Open']),  \"  \\t Std: \", np.std(stocks['Open']),  \"  \\t Max: \", np.max(stocks['Open']),  \"  \\t Min: \", np.min(stocks['Open']))\n",
    "print(\"Close  --- mean :\", np.mean(stocks['Close']), \"  \\t Std: \", np.std(stocks['Close']), \"  \\t Max: \", np.max(stocks['Close']), \"  \\t Min: \", np.min(stocks['Close']))\n",
    "print(\"Volume --- mean :\", np.mean(stocks['Volume']),\"  \\t Std: \", np.std(stocks['Volume']),\"  \\t Max: \", np.max(stocks['Volume']),\"  \\t Min: \", np.min(stocks['Volume']))\n"
   ]
  },
  {
   "cell_type": "code",
   "execution_count": 18,
   "metadata": {},
   "outputs": [
    {
     "data": {
      "text/plain": [
       "Item      0\n",
       "Open      0\n",
       "Close     0\n",
       "Volume    0\n",
       "dtype: int64"
      ]
     },
     "execution_count": 18,
     "metadata": {},
     "output_type": "execute_result"
    }
   ],
   "source": [
    "null_value = stocks.isnull().sum()\n",
    "\n",
    "null_value"
   ]
  },
  {
   "cell_type": "code",
   "execution_count": 19,
   "metadata": {},
   "outputs": [
    {
     "data": {
      "image/png": "[encoded data removed]",
      "text/plain": [
       "<Figure size 432x288 with 1 Axes>"
      ]
     },
     "metadata": {
      "needs_background": "light"
     },
     "output_type": "display_data"
    }
   ],
   "source": [
    "vs.plot_basic(stocks)\n"
   ]
  },
  {
   "cell_type": "code",
   "execution_count": 25,
   "metadata": {},
   "outputs": [],
   "source": [
    "from keras.layers.core import Dense, Activation, Dropout\n",
    "from keras.layers.recurrent import LSTM\n",
    "from keras.models import Sequential\n",
    "from keras.metrics import mean_squared_error\n",
    "from sklearn.model_selection import StratifiedKFold\n",
    "\n",
    "import lstm, time #helper libraries\n",
    "\n",
    "stocks_data = stocks.drop(['Item'], axis =1)\n"
   ]
  },
  {
   "cell_type": "code",
   "execution_count": null,
   "metadata": {},
   "outputs": [],
   "source": [
    "X_train, X_test,y_train, y_test = sd.train_test_split_lstm(stocks_data, 5)\n",
    "\n",
    "unroll_length = 50\n",
    "X_train = sd.unroll(X_train, unroll_length)\n",
    "X_test = sd.unroll(X_test, unroll_length)\n",
    "y_train = y_train[-X_train.shape[0]:]\n",
    "y_test = y_test[-X_test.shape[0]:]\n",
    "\n",
    "print(\"x_train\", X_train.shape)\n",
    "print(\"y_train\", y_train.shape)\n",
    "print(\"x_test\", X_test.shape)\n",
    "print(\"y_test\", y_test.shape)\n"
   ]
  },
  {
   "cell_type": "code",
   "execution_count": 27,
   "metadata": {},
   "outputs": [
    {
     "name": "stdout",
     "output_type": "stream",
     "text": [
      "compilation time :  0.013615846633911133\n"
     ]
    }
   ],
   "source": [
    "# build basic lstm model\n",
    "model = lstm.build_basic_model(input_dim = X_train.shape[-1],output_dim = unroll_length, return_sequences=True)\n",
    "\n",
    "# Compile the model\n",
    "start = time.time()\n",
    "model.compile(loss='mean_squared_error', optimizer='adam')\n",
    "print('compilation time : ', time.time() - start)\n"
   ]
  },
  {
   "cell_type": "code",
   "execution_count": 28,
   "metadata": {},
   "outputs": [
    {
     "name": "stdout",
     "output_type": "stream",
     "text": [
      "77/77 [==============================] - 4s 56ms/step - loss: 0.0033 - val_loss: 3.2677e-04\n"
     ]
    },
    {
     "data": {
      "text/plain": [
       "<tensorflow.python.keras.callbacks.History at 0x13be9b91808>"
      ]
     },
     "execution_count": 28,
     "metadata": {},
     "output_type": "execute_result"
    }
   ],
   "source": [
    "model.fit(\n",
    "    X_train,\n",
    "    y_train,\n",
    "    epochs=1,\n",
    "    validation_split=0.05)\n"
   ]
  },
  {
   "cell_type": "code",
   "execution_count": 29,
   "metadata": {},
   "outputs": [],
   "source": [
    "predictions = model.predict(X_test)\n"
   ]
  },
  {
   "cell_type": "code",
   "execution_count": 30,
   "metadata": {},
   "outputs": [
    {
     "data": {
      "image/png": "[encoded data removed]",
      "text/plain": [
       "<Figure size 432x288 with 1 Axes>"
      ]
     },
     "metadata": {
      "needs_background": "light"
     },
     "output_type": "display_data"
    }
   ],
   "source": [
    "vs.plot_lstm_prediction(y_test,predictions)\n"
   ]
  },
  {
   "cell_type": "code",
   "execution_count": 31,
   "metadata": {},
   "outputs": [
    {
     "name": "stdout",
     "output_type": "stream",
     "text": [
      "Train Score: 0.00038653 MSE (0.01966025 RMSE)\n",
      "Test Score: 0.00263696 MSE (0.05135130 RMSE)\n"
     ]
    }
   ],
   "source": [
    "# RMSE for Training-Testing Data with basic LSTM\n",
    "trainScore = model.evaluate(X_train, y_train, verbose=0)\n",
    "print('Train Score: %.8f MSE (%.8f RMSE)' % (trainScore, math.sqrt(trainScore)))\n",
    "\n",
    "testScore = model.evaluate(X_test, y_test, verbose=0)\n",
    "print('Test Score: %.8f MSE (%.8f RMSE)' % (testScore, math.sqrt(testScore)))\n"
   ]
  },
  {
   "cell_type": "code",
   "execution_count": 32,
   "metadata": {},
   "outputs": [
    {
     "name": "stdout",
     "output_type": "stream",
     "text": [
      "compilation time :  0.006129026412963867\n"
     ]
    }
   ],
   "source": [
    "# Set up hyperparameters\n",
    "batch_size = 100\n",
    "epochs = 5\n",
    "\n",
    "# build improved lstm model\n",
    "model = lstm.build_improved_model( X_train.shape[-1],output_dim = unroll_length, return_sequences=True)\n",
    "\n",
    "start = time.time()\n",
    "#final_model.compile(loss='mean_squared_error', optimizer='adam')\n",
    "model.compile(loss='mean_squared_error', optimizer='adam')\n",
    "print('compilation time : ', time.time() - start)\n"
   ]
  },
  {
   "cell_type": "code",
   "execution_count": 33,
   "metadata": {},
   "outputs": [
    {
     "name": "stdout",
     "output_type": "stream",
     "text": [
      "Epoch 1/5\n",
      "25/25 - 4s - loss: 0.0057 - val_loss: 0.0033\n",
      "Epoch 2/5\n",
      "25/25 - 3s - loss: 9.1170e-04 - val_loss: 2.7104e-04\n",
      "Epoch 3/5\n",
      "25/25 - 3s - loss: 7.9234e-04 - val_loss: 3.1560e-04\n",
      "Epoch 4/5\n",
      "25/25 - 2s - loss: 6.7558e-04 - val_loss: 7.0492e-04\n",
      "Epoch 5/5\n",
      "25/25 - 2s - loss: 6.5491e-04 - val_loss: 4.1618e-04\n"
     ]
    },
    {
     "data": {
      "text/plain": [
       "<tensorflow.python.keras.callbacks.History at 0x13bf0853448>"
      ]
     },
     "execution_count": 33,
     "metadata": {},
     "output_type": "execute_result"
    }
   ],
   "source": [
    "model.fit(X_train, \n",
    "          y_train, \n",
    "          batch_size=batch_size,\n",
    "          epochs=epochs,\n",
    "          verbose=2,\n",
    "          validation_split=0.05\n",
    "         )\n"
   ]
  },
  {
   "cell_type": "code",
   "execution_count": 34,
   "metadata": {},
   "outputs": [],
   "source": [
    "# Generate predictions \n",
    "predictions = model.predict(X_test, batch_size=batch_size)\n"
   ]
  },
  {
   "cell_type": "code",
   "execution_count": 35,
   "metadata": {},
   "outputs": [
    {
     "data": {
      "image/png": "[encoded data removed]",
      "text/plain": [
       "<Figure size 432x288 with 1 Axes>"
      ]
     },
     "metadata": {
      "needs_background": "light"
     },
     "output_type": "display_data"
    }
   ],
   "source": [
    "vs.plot_lstm_prediction(y_test,predictions)\n"
   ]
  },
  {
   "cell_type": "code",
   "execution_count": 36,
   "metadata": {},
   "outputs": [
    {
     "name": "stdout",
     "output_type": "stream",
     "text": [
      "Train Score: 0.00036682 MSE (0.01915255 RMSE)\n",
      "Test Score: 0.00202777 MSE (0.04503078 RMSE)\n"
     ]
    }
   ],
   "source": [
    "# RMSE for Training-Testing Data with Improved LSTM\n",
    "trainScore = model.evaluate(X_train, y_train, verbose=0)\n",
    "print('Train Score: %.8f MSE (%.8f RMSE)' % (trainScore, math.sqrt(trainScore)))\n",
    "\n",
    "testScore = model.evaluate(X_test, y_test, verbose=0)\n",
    "print('Test Score: %.8f MSE (%.8f RMSE)' % (testScore, math.sqrt(testScore)))\n"
   ]
  }
 ],
 "metadata": {
  "kernelspec": {
   "display_name": "Python 3",
   "language": "python",
   "name": "python3"
  },
  "language_info": {
   "codemirror_mode": {
    "name": "ipython",
    "version": 3
   },
   "file_extension": ".py",
   "mimetype": "text/x-python",
   "name": "python",
   "nbconvert_exporter": "python",
   "pygments_lexer": "ipython3",
   "version": "3.8.5"
  }
 },
 "nbformat": 4,
 "nbformat_minor": 2
}